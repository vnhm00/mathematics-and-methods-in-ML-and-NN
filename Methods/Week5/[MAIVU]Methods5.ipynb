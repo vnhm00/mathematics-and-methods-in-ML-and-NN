{
 "cells": [
  {
   "cell_type": "markdown",
   "metadata": {},
   "source": [
    "# Mai Vu - Methods 5"
   ]
  },
  {
   "cell_type": "code",
   "execution_count": 1,
   "metadata": {},
   "outputs": [],
   "source": [
    "import pandas as pd\n",
    "import numpy as np\n",
    "import matplotlib.pyplot as plt\n",
    "from sklearn import *\n",
    "from sklearn.linear_model import LogisticRegression\n",
    "from sklearn.metrics import accuracy_score\n",
    "from sklearn.metrics import confusion_matrix\n",
    "from sklearn.metrics import classification_report"
   ]
  },
  {
   "cell_type": "markdown",
   "metadata": {},
   "source": [
    "## 1. Read and preprocessing data"
   ]
  },
  {
   "cell_type": "code",
   "execution_count": 2,
   "metadata": {},
   "outputs": [
    {
     "data": {
      "text/html": [
       "<div>\n",
       "<style scoped>\n",
       "    .dataframe tbody tr th:only-of-type {\n",
       "        vertical-align: middle;\n",
       "    }\n",
       "\n",
       "    .dataframe tbody tr th {\n",
       "        vertical-align: top;\n",
       "    }\n",
       "\n",
       "    .dataframe thead th {\n",
       "        text-align: right;\n",
       "    }\n",
       "</style>\n",
       "<table border=\"1\" class=\"dataframe\">\n",
       "  <thead>\n",
       "    <tr style=\"text-align: right;\">\n",
       "      <th></th>\n",
       "      <th>pelvic_incidence</th>\n",
       "      <th>pelvic_tilt</th>\n",
       "      <th>lumbar_lordosis_angle</th>\n",
       "      <th>sacral_slope</th>\n",
       "      <th>pelvic_radius</th>\n",
       "      <th>degree_spondylolisthesis</th>\n",
       "      <th>class</th>\n",
       "    </tr>\n",
       "  </thead>\n",
       "  <tbody>\n",
       "    <tr>\n",
       "      <td>39</td>\n",
       "      <td>52.42</td>\n",
       "      <td>19.01</td>\n",
       "      <td>35.87</td>\n",
       "      <td>33.41</td>\n",
       "      <td>116.56</td>\n",
       "      <td>1.69</td>\n",
       "      <td>DH</td>\n",
       "    </tr>\n",
       "    <tr>\n",
       "      <td>0</td>\n",
       "      <td>63.03</td>\n",
       "      <td>22.55</td>\n",
       "      <td>39.61</td>\n",
       "      <td>40.48</td>\n",
       "      <td>98.67</td>\n",
       "      <td>-0.25</td>\n",
       "      <td>DH</td>\n",
       "    </tr>\n",
       "    <tr>\n",
       "      <td>190</td>\n",
       "      <td>43.72</td>\n",
       "      <td>9.81</td>\n",
       "      <td>52.00</td>\n",
       "      <td>33.91</td>\n",
       "      <td>88.43</td>\n",
       "      <td>40.88</td>\n",
       "      <td>SL</td>\n",
       "    </tr>\n",
       "    <tr>\n",
       "      <td>186</td>\n",
       "      <td>81.08</td>\n",
       "      <td>21.26</td>\n",
       "      <td>78.77</td>\n",
       "      <td>59.83</td>\n",
       "      <td>90.07</td>\n",
       "      <td>49.16</td>\n",
       "      <td>SL</td>\n",
       "    </tr>\n",
       "    <tr>\n",
       "      <td>78</td>\n",
       "      <td>67.41</td>\n",
       "      <td>17.44</td>\n",
       "      <td>60.14</td>\n",
       "      <td>49.97</td>\n",
       "      <td>111.12</td>\n",
       "      <td>33.16</td>\n",
       "      <td>SL</td>\n",
       "    </tr>\n",
       "    <tr>\n",
       "      <td>63</td>\n",
       "      <td>77.69</td>\n",
       "      <td>21.38</td>\n",
       "      <td>64.43</td>\n",
       "      <td>56.31</td>\n",
       "      <td>114.82</td>\n",
       "      <td>26.93</td>\n",
       "      <td>SL</td>\n",
       "    </tr>\n",
       "    <tr>\n",
       "      <td>214</td>\n",
       "      <td>45.70</td>\n",
       "      <td>10.66</td>\n",
       "      <td>42.58</td>\n",
       "      <td>35.04</td>\n",
       "      <td>130.18</td>\n",
       "      <td>-3.39</td>\n",
       "      <td>NO</td>\n",
       "    </tr>\n",
       "    <tr>\n",
       "      <td>32</td>\n",
       "      <td>44.94</td>\n",
       "      <td>17.44</td>\n",
       "      <td>27.78</td>\n",
       "      <td>27.49</td>\n",
       "      <td>117.98</td>\n",
       "      <td>5.57</td>\n",
       "      <td>DH</td>\n",
       "    </tr>\n",
       "    <tr>\n",
       "      <td>56</td>\n",
       "      <td>43.35</td>\n",
       "      <td>7.47</td>\n",
       "      <td>28.07</td>\n",
       "      <td>35.88</td>\n",
       "      <td>112.78</td>\n",
       "      <td>5.75</td>\n",
       "      <td>DH</td>\n",
       "    </tr>\n",
       "    <tr>\n",
       "      <td>62</td>\n",
       "      <td>44.53</td>\n",
       "      <td>9.43</td>\n",
       "      <td>52.00</td>\n",
       "      <td>35.10</td>\n",
       "      <td>134.71</td>\n",
       "      <td>29.11</td>\n",
       "      <td>SL</td>\n",
       "    </tr>\n",
       "  </tbody>\n",
       "</table>\n",
       "</div>"
      ],
      "text/plain": [
       "     pelvic_incidence  pelvic_tilt  lumbar_lordosis_angle  sacral_slope  \\\n",
       "39              52.42        19.01                  35.87         33.41   \n",
       "0               63.03        22.55                  39.61         40.48   \n",
       "190             43.72         9.81                  52.00         33.91   \n",
       "186             81.08        21.26                  78.77         59.83   \n",
       "78              67.41        17.44                  60.14         49.97   \n",
       "63              77.69        21.38                  64.43         56.31   \n",
       "214             45.70        10.66                  42.58         35.04   \n",
       "32              44.94        17.44                  27.78         27.49   \n",
       "56              43.35         7.47                  28.07         35.88   \n",
       "62              44.53         9.43                  52.00         35.10   \n",
       "\n",
       "     pelvic_radius  degree_spondylolisthesis class  \n",
       "39          116.56                      1.69    DH  \n",
       "0            98.67                     -0.25    DH  \n",
       "190          88.43                     40.88    SL  \n",
       "186          90.07                     49.16    SL  \n",
       "78          111.12                     33.16    SL  \n",
       "63          114.82                     26.93    SL  \n",
       "214         130.18                     -3.39    NO  \n",
       "32          117.98                      5.57    DH  \n",
       "56          112.78                      5.75    DH  \n",
       "62          134.71                     29.11    SL  "
      ]
     },
     "execution_count": 2,
     "metadata": {},
     "output_type": "execute_result"
    }
   ],
   "source": [
    "#Read data from the file and assign its header\n",
    "header = ['pelvic_incidence', 'pelvic_tilt', 'lumbar_lordosis_angle', 'sacral_slope', 'pelvic_radius', 'degree_spondylolisthesis', 'class']\n",
    "X = pd.read_csv('column_3C.dat', sep = ' ', index_col = None, header = None, names = header)\n",
    "X.sample(10)"
   ]
  },
  {
   "cell_type": "code",
   "execution_count": 3,
   "metadata": {},
   "outputs": [
    {
     "name": "stdout",
     "output_type": "stream",
     "text": [
      "Shape = (310, 7)\n"
     ]
    },
    {
     "data": {
      "text/html": [
       "<div>\n",
       "<style scoped>\n",
       "    .dataframe tbody tr th:only-of-type {\n",
       "        vertical-align: middle;\n",
       "    }\n",
       "\n",
       "    .dataframe tbody tr th {\n",
       "        vertical-align: top;\n",
       "    }\n",
       "\n",
       "    .dataframe thead th {\n",
       "        text-align: right;\n",
       "    }\n",
       "</style>\n",
       "<table border=\"1\" class=\"dataframe\">\n",
       "  <thead>\n",
       "    <tr style=\"text-align: right;\">\n",
       "      <th></th>\n",
       "      <th>pelvic_incidence</th>\n",
       "      <th>pelvic_tilt</th>\n",
       "      <th>lumbar_lordosis_angle</th>\n",
       "      <th>sacral_slope</th>\n",
       "      <th>pelvic_radius</th>\n",
       "      <th>degree_spondylolisthesis</th>\n",
       "    </tr>\n",
       "  </thead>\n",
       "  <tbody>\n",
       "    <tr>\n",
       "      <td>count</td>\n",
       "      <td>310.0000</td>\n",
       "      <td>310.0000</td>\n",
       "      <td>310.0000</td>\n",
       "      <td>310.0000</td>\n",
       "      <td>310.0000</td>\n",
       "      <td>310.0000</td>\n",
       "    </tr>\n",
       "    <tr>\n",
       "      <td>mean</td>\n",
       "      <td>60.4965</td>\n",
       "      <td>17.5429</td>\n",
       "      <td>51.9307</td>\n",
       "      <td>42.9539</td>\n",
       "      <td>117.9205</td>\n",
       "      <td>26.2967</td>\n",
       "    </tr>\n",
       "    <tr>\n",
       "      <td>std</td>\n",
       "      <td>17.2361</td>\n",
       "      <td>10.0081</td>\n",
       "      <td>18.5538</td>\n",
       "      <td>13.4227</td>\n",
       "      <td>13.3176</td>\n",
       "      <td>37.5589</td>\n",
       "    </tr>\n",
       "    <tr>\n",
       "      <td>min</td>\n",
       "      <td>26.1500</td>\n",
       "      <td>-6.5500</td>\n",
       "      <td>14.0000</td>\n",
       "      <td>13.3700</td>\n",
       "      <td>70.0800</td>\n",
       "      <td>-11.0600</td>\n",
       "    </tr>\n",
       "    <tr>\n",
       "      <td>25%</td>\n",
       "      <td>46.4325</td>\n",
       "      <td>10.6675</td>\n",
       "      <td>37.0000</td>\n",
       "      <td>33.3475</td>\n",
       "      <td>110.7100</td>\n",
       "      <td>1.6000</td>\n",
       "    </tr>\n",
       "    <tr>\n",
       "      <td>50%</td>\n",
       "      <td>58.6900</td>\n",
       "      <td>16.3600</td>\n",
       "      <td>49.5650</td>\n",
       "      <td>42.4050</td>\n",
       "      <td>118.2650</td>\n",
       "      <td>11.7650</td>\n",
       "    </tr>\n",
       "    <tr>\n",
       "      <td>75%</td>\n",
       "      <td>72.8800</td>\n",
       "      <td>22.1200</td>\n",
       "      <td>63.0000</td>\n",
       "      <td>52.6925</td>\n",
       "      <td>125.4675</td>\n",
       "      <td>41.2850</td>\n",
       "    </tr>\n",
       "    <tr>\n",
       "      <td>max</td>\n",
       "      <td>129.8300</td>\n",
       "      <td>49.4300</td>\n",
       "      <td>125.7400</td>\n",
       "      <td>121.4300</td>\n",
       "      <td>163.0700</td>\n",
       "      <td>418.5400</td>\n",
       "    </tr>\n",
       "  </tbody>\n",
       "</table>\n",
       "</div>"
      ],
      "text/plain": [
       "       pelvic_incidence  pelvic_tilt  lumbar_lordosis_angle  sacral_slope  \\\n",
       "count          310.0000     310.0000               310.0000      310.0000   \n",
       "mean            60.4965      17.5429                51.9307       42.9539   \n",
       "std             17.2361      10.0081                18.5538       13.4227   \n",
       "min             26.1500      -6.5500                14.0000       13.3700   \n",
       "25%             46.4325      10.6675                37.0000       33.3475   \n",
       "50%             58.6900      16.3600                49.5650       42.4050   \n",
       "75%             72.8800      22.1200                63.0000       52.6925   \n",
       "max            129.8300      49.4300               125.7400      121.4300   \n",
       "\n",
       "       pelvic_radius  degree_spondylolisthesis  \n",
       "count       310.0000                  310.0000  \n",
       "mean        117.9205                   26.2967  \n",
       "std          13.3176                   37.5589  \n",
       "min          70.0800                  -11.0600  \n",
       "25%         110.7100                    1.6000  \n",
       "50%         118.2650                   11.7650  \n",
       "75%         125.4675                   41.2850  \n",
       "max         163.0700                  418.5400  "
      ]
     },
     "execution_count": 3,
     "metadata": {},
     "output_type": "execute_result"
    }
   ],
   "source": [
    "print('Shape =', X.shape)\n",
    "X.describe().round(4)"
   ]
  },
  {
   "cell_type": "markdown",
   "metadata": {},
   "source": [
    "There are total 310 samples and 7 attributes. The last one or the predicted attribute has 3 values: disk hernia (DH), spondylolisthesis (SL) and normal (NO). "
   ]
  },
  {
   "cell_type": "code",
   "execution_count": 4,
   "metadata": {
    "scrolled": true
   },
   "outputs": [
    {
     "data": {
      "image/png": "[encoded data removed]",
      "text/plain": [
       "<Figure size 1080x180 with 6 Axes>"
      ]
     },
     "metadata": {
      "needs_background": "light"
     },
     "output_type": "display_data"
    }
   ],
   "source": [
    "import seaborn as sns\n",
    "pp = sns.pairplot(X, kind = \"scatter\", \n",
    "                  y_vars=['class'],\n",
    "                  x_vars=X.columns.difference(['class']))\n",
    "plt.show(pp)"
   ]
  },
  {
   "cell_type": "code",
   "execution_count": 5,
   "metadata": {},
   "outputs": [],
   "source": [
    "#split data into training and test sets\n",
    "train, test = model_selection.train_test_split(X, test_size = 0.33)\n",
    "train_labels = train['class'].copy()\n",
    "train = train.drop('class', axis = 1)\n",
    "test_labels = test['class'].copy()\n",
    "test = test.drop('class', axis = 1)"
   ]
  },
  {
   "cell_type": "markdown",
   "metadata": {},
   "source": [
    "## 2. Logistic regression model"
   ]
  },
  {
   "cell_type": "code",
   "execution_count": 6,
   "metadata": {},
   "outputs": [],
   "source": [
    "model = LogisticRegression(solver = 'newton-cg', multi_class = 'multinomial').fit(train, train_labels)"
   ]
  },
  {
   "cell_type": "code",
   "execution_count": 7,
   "metadata": {},
   "outputs": [
    {
     "name": "stdout",
     "output_type": "stream",
     "text": [
      "coef =\n",
      " [[-0.03670372  0.05443168 -0.02958759 -0.07039788 -0.0579577  -0.09887239]\n",
      " [-0.00605166 -0.06054958  0.02428779  0.02463382  0.0566766  -0.12572707]\n",
      " [ 0.04275538  0.00611791  0.00529981  0.04576406  0.0012811   0.22459946]]\n"
     ]
    }
   ],
   "source": [
    "print('coef =\\n', model.coef_)"
   ]
  },
  {
   "cell_type": "code",
   "execution_count": 8,
   "metadata": {},
   "outputs": [
    {
     "name": "stdout",
     "output_type": "stream",
     "text": [
      "[[0.83  0.161 0.009]\n",
      " [0.212 0.785 0.002]\n",
      " [0.    0.    1.   ]\n",
      " [0.012 0.004 0.984]\n",
      " [0.131 0.862 0.007]\n",
      " [0.887 0.096 0.017]\n",
      " [0.    0.    1.   ]\n",
      " [0.592 0.337 0.07 ]\n",
      " [0.021 0.216 0.764]\n",
      " [0.    0.    1.   ]]\n"
     ]
    }
   ],
   "source": [
    "#print 10 samples from the train to show probabilities of each outcome\n",
    "print(np.random.permutation(model.predict_proba(train).round(3))[:10])"
   ]
  },
  {
   "cell_type": "markdown",
   "metadata": {},
   "source": [
    "### 3.1 Classification reports"
   ]
  },
  {
   "cell_type": "code",
   "execution_count": 9,
   "metadata": {},
   "outputs": [
    {
     "name": "stdout",
     "output_type": "stream",
     "text": [
      "THE TRAIN SET\n",
      "              precision    recall  f1-score   support\n",
      "\n",
      "          DH       0.69      0.72      0.71        40\n",
      "          NO       0.78      0.75      0.76        60\n",
      "          SL       0.97      0.97      0.97       107\n",
      "\n",
      "   micro avg       0.86      0.86      0.86       207\n",
      "   macro avg       0.81      0.82      0.81       207\n",
      "weighted avg       0.86      0.86      0.86       207\n",
      "\n"
     ]
    }
   ],
   "source": [
    "print('THE TRAIN SET')\n",
    "print(classification_report(model.predict(train), train_labels))"
   ]
  },
  {
   "cell_type": "code",
   "execution_count": 10,
   "metadata": {},
   "outputs": [
    {
     "name": "stdout",
     "output_type": "stream",
     "text": [
      "THE TEST SET\n",
      "              precision    recall  f1-score   support\n",
      "\n",
      "          DH       0.72      0.72      0.72        18\n",
      "          NO       0.81      0.89      0.85        38\n",
      "          SL       0.98      0.89      0.93        47\n",
      "\n",
      "   micro avg       0.86      0.86      0.86       103\n",
      "   macro avg       0.84      0.84      0.84       103\n",
      "weighted avg       0.87      0.86      0.87       103\n",
      "\n"
     ]
    }
   ],
   "source": [
    "print('THE TEST SET')\n",
    "print(classification_report(model.predict(test), test_labels))"
   ]
  },
  {
   "cell_type": "markdown",
   "metadata": {},
   "source": [
    "### 3.2 Confusion matrices and accuracies"
   ]
  },
  {
   "cell_type": "code",
   "execution_count": 11,
   "metadata": {},
   "outputs": [
    {
     "data": {
      "image/png": "[encoded data removed]",
      "text/plain": [
       "<Figure size 1080x360 with 4 Axes>"
      ]
     },
     "metadata": {
      "needs_background": "light"
     },
     "output_type": "display_data"
    }
   ],
   "source": [
    "plt.figure(figsize = (15,5))\n",
    "\n",
    "plt.subplot(1, 2, 1, aspect = 'equal')\n",
    "sns.heatmap(confusion_matrix(model.predict(train), train_labels).T, annot = True, square = True)\n",
    "plt.title(\"Confusion matrix of the train set (acc = \" + str(round(accuracy_score(model.predict(train), train_labels),5)) + ')', size = 15)\n",
    "plt.xlabel('True labels', size = 12)\n",
    "plt.ylabel('Predicted', size = 12)\n",
    "\n",
    "plt.subplot(1, 2, 2, aspect = 'equal')\n",
    "sns.heatmap(confusion_matrix(model.predict(test), test_labels).T, annot = True, square = True)\n",
    "plt.title(\"Confusion matrix of the test set (acc = \" + str(round(accuracy_score(model.predict(test), test_labels),5)) + ')', size = 15)\n",
    "plt.xlabel('True labels', size = 12)\n",
    "plt.ylabel('Predicted', size = 12)\n",
    "\n",
    "plt.show()"
   ]
  }
 ],
 "metadata": {
  "kernelspec": {
   "display_name": "Python 3",
   "language": "python",
   "name": "python3"
  },
  "language_info": {
   "codemirror_mode": {
    "name": "ipython",
    "version": 3
   },
   "file_extension": ".py",
   "mimetype": "text/x-python",
   "name": "python",
   "nbconvert_exporter": "python",
   "pygments_lexer": "ipython3",
   "version": "3.7.3"
  }
 },
 "nbformat": 4,
 "nbformat_minor": 2
}
